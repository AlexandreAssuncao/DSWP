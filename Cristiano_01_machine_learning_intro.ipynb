{
  "nbformat": 4,
  "nbformat_minor": 0,
  "metadata": {
    "kernelspec": {
      "display_name": "Python 3",
      "language": "python",
      "name": "python3"
    },
    "language_info": {
      "codemirror_mode": {
        "name": "ipython",
        "version": 3
      },
      "file_extension": ".py",
      "mimetype": "text/x-python",
      "name": "python",
      "nbconvert_exporter": "python",
      "pygments_lexer": "ipython3",
      "version": "3.6.5"
    },
    "colab": {
      "name": "01_machine_learning_intro.ipynb",
      "provenance": [],
      "include_colab_link": true
    }
  },
  "cells": [
    {
      "cell_type": "markdown",
      "metadata": {
        "id": "view-in-github",
        "colab_type": "text"
      },
      "source": [
        "<a href=\"https://colab.research.google.com/github/AlexandreAssuncao/DSWP/blob/master/Cristiano_01_machine_learning_intro.ipynb\" target=\"_parent\"><img src=\"https://colab.research.google.com/assets/colab-badge.svg\" alt=\"Open In Colab\"/></a>"
      ]
    },
    {
      "cell_type": "markdown",
      "metadata": {
        "id": "NuNVObTuMy8U"
      },
      "source": [
        "# What is machine learning, and how does it work? ([video #1](https://www.youtube.com/watch?v=elojMnjn4kk&list=PL5-da3qGB5ICeMbQuqbbCOQWcS6OYBr5A&index=1))\n",
        "\n",
        "Created by [Data School](http://www.dataschool.io/). Watch all 9 videos on [YouTube](https://www.youtube.com/playlist?list=PL5-da3qGB5ICeMbQuqbbCOQWcS6OYBr5A). Download the notebooks from [GitHub](https://github.com/justmarkham/scikit-learn-videos)."
      ]
    },
    {
      "cell_type": "markdown",
      "metadata": {
        "id": "ZaL9_lwFMy8i"
      },
      "source": [
        "![Machine learning](https://github.com/cristianopoeta/scikit-learn-videos/blob/master/images/01_robot.png?raw=1)"
      ]
    },
    {
      "cell_type": "markdown",
      "metadata": {
        "id": "1pPaLPKXMy8l"
      },
      "source": [
        "## Agenda\n",
        "\n",
        "- What is machine learning?\n",
        "- What are the two main categories of machine learning?\n",
        "- What are some examples of machine learning?\n",
        "- How does machine learning \"work\"?"
      ]
    },
    {
      "cell_type": "markdown",
      "metadata": {
        "id": "j8Oyy2gLMy8w"
      },
      "source": [
        "## What is machine learning?\n",
        "\n",
        "One definition: \"Machine learning is the semi-automated extraction of knowledge from data\"\n",
        "\n",
        "- **Knowledge from data**: Starts with a question that might be answerable using data\n",
        "- **Automated extraction**: A computer provides the insight\n",
        "- **Semi-automated**: Requires many smart decisions by a human"
      ]
    },
    {
      "cell_type": "markdown",
      "metadata": {
        "id": "HrCMAj3LMy80"
      },
      "source": [
        "## What are the two main categories of machine learning?\n",
        "\n",
        "**Supervised learning**: Making predictions using data\n",
        "    \n",
        "- Example: Is a given email \"spam\" or \"ham\"?\n",
        "- There is an outcome we are trying to predict"
      ]
    },
    {
      "cell_type": "markdown",
      "metadata": {
        "id": "oY5HclSlMy84"
      },
      "source": [
        "![Spam filter](https://github.com/cristianopoeta/scikit-learn-videos/blob/master/images/01_spam_filter.png?raw=1)"
      ]
    },
    {
      "cell_type": "markdown",
      "metadata": {
        "id": "kiiNEXxMMy87"
      },
      "source": [
        "**Unsupervised learning**: Extracting structure from data\n",
        "\n",
        "- Example: Segment grocery store shoppers into clusters that exhibit similar behaviors\n",
        "- There is no \"right answer\""
      ]
    },
    {
      "cell_type": "markdown",
      "metadata": {
        "id": "vXeH7HP5My89"
      },
      "source": [
        "![Clustering](https://github.com/cristianopoeta/scikit-learn-videos/blob/master/images/01_clustering.png?raw=1)"
      ]
    },
    {
      "cell_type": "markdown",
      "metadata": {
        "id": "2JvnIYxbMy8_"
      },
      "source": [
        "## How does machine learning \"work\"?\n",
        "\n",
        "High-level steps of supervised learning:\n",
        "\n",
        "1. First, train a **machine learning model** using **labeled data**\n",
        "\n",
        "    - \"Labeled data\" has been labeled with the outcome\n",
        "    - \"Machine learning model\" learns the relationship between the attributes of the data and its outcome\n",
        "\n",
        "2. Then, make **predictions** on **new data** for which the label is unknown"
      ]
    },
    {
      "cell_type": "markdown",
      "metadata": {
        "id": "zy_13yG7My9B"
      },
      "source": [
        "![Supervised learning](https://github.com/cristianopoeta/scikit-learn-videos/blob/master/images/01_supervised_learning.png?raw=1)"
      ]
    },
    {
      "cell_type": "markdown",
      "metadata": {
        "id": "EMo9OHhXMy9D"
      },
      "source": [
        "The primary goal of supervised learning is to build a model that \"generalizes\": It accurately predicts the **future** rather than the **past**!"
      ]
    },
    {
      "cell_type": "markdown",
      "metadata": {
        "id": "LoPomhp2My9F"
      },
      "source": [
        "## Questions about machine learning\n",
        "\n",
        "- How do I choose **which attributes** of my data to include in the model?\n",
        "- How do I choose **which model** to use?\n",
        "- How do I **optimize** this model for best performance?\n",
        "- How do I ensure that I'm building a model that will **generalize** to unseen data?\n",
        "- Can I **estimate** how well my model is likely to perform on unseen data?"
      ]
    },
    {
      "cell_type": "markdown",
      "metadata": {
        "id": "BJJ9c7v_My9G"
      },
      "source": [
        "## Resources\n",
        "\n",
        "- Book: [An Introduction to Statistical Learning](http://www-bcf.usc.edu/~gareth/ISL/) (section 2.1, 14 pages)\n",
        "- Video: [Learning Paradigms](http://work.caltech.edu/library/014.html) (13 minutes)"
      ]
    },
    {
      "cell_type": "markdown",
      "metadata": {
        "id": "_LO8DwvkMy9N"
      },
      "source": [
        "## Comments or Questions?\n",
        "\n",
        "- Email: <kevin@dataschool.io>\n",
        "- Website: http://dataschool.io\n",
        "- Twitter: [@justmarkham](https://twitter.com/justmarkham)"
      ]
    },
    {
      "cell_type": "code",
      "metadata": {
        "id": "uWixdA2cMy9T",
        "outputId": "431d5906-378c-43d3-99f0-0edba7d12906",
        "colab": {
          "base_uri": "https://localhost:8080/",
          "height": 335
        }
      },
      "source": [
        "from IPython.core.display import HTML\n",
        "def css_styling():\n",
        "    styles = open(\"styles/custom.css\", \"r\").read()\n",
        "    return HTML(styles)\n",
        "css_styling()"
      ],
      "execution_count": null,
      "outputs": [
        {
          "output_type": "error",
          "ename": "FileNotFoundError",
          "evalue": "ignored",
          "traceback": [
            "\u001b[0;31m---------------------------------------------------------------------------\u001b[0m",
            "\u001b[0;31mFileNotFoundError\u001b[0m                         Traceback (most recent call last)",
            "\u001b[0;32m<ipython-input-1-8f4b60a44674>\u001b[0m in \u001b[0;36m<module>\u001b[0;34m()\u001b[0m\n\u001b[1;32m      3\u001b[0m     \u001b[0mstyles\u001b[0m \u001b[0;34m=\u001b[0m \u001b[0mopen\u001b[0m\u001b[0;34m(\u001b[0m\u001b[0;34m\"styles/custom.css\"\u001b[0m\u001b[0;34m,\u001b[0m \u001b[0;34m\"r\"\u001b[0m\u001b[0;34m)\u001b[0m\u001b[0;34m.\u001b[0m\u001b[0mread\u001b[0m\u001b[0;34m(\u001b[0m\u001b[0;34m)\u001b[0m\u001b[0;34m\u001b[0m\u001b[0;34m\u001b[0m\u001b[0m\n\u001b[1;32m      4\u001b[0m     \u001b[0;32mreturn\u001b[0m \u001b[0mHTML\u001b[0m\u001b[0;34m(\u001b[0m\u001b[0mstyles\u001b[0m\u001b[0;34m)\u001b[0m\u001b[0;34m\u001b[0m\u001b[0;34m\u001b[0m\u001b[0m\n\u001b[0;32m----> 5\u001b[0;31m \u001b[0mcss_styling\u001b[0m\u001b[0;34m(\u001b[0m\u001b[0;34m)\u001b[0m\u001b[0;34m\u001b[0m\u001b[0;34m\u001b[0m\u001b[0m\n\u001b[0m",
            "\u001b[0;32m<ipython-input-1-8f4b60a44674>\u001b[0m in \u001b[0;36mcss_styling\u001b[0;34m()\u001b[0m\n\u001b[1;32m      1\u001b[0m \u001b[0;32mfrom\u001b[0m \u001b[0mIPython\u001b[0m\u001b[0;34m.\u001b[0m\u001b[0mcore\u001b[0m\u001b[0;34m.\u001b[0m\u001b[0mdisplay\u001b[0m \u001b[0;32mimport\u001b[0m \u001b[0mHTML\u001b[0m\u001b[0;34m\u001b[0m\u001b[0;34m\u001b[0m\u001b[0m\n\u001b[1;32m      2\u001b[0m \u001b[0;32mdef\u001b[0m \u001b[0mcss_styling\u001b[0m\u001b[0;34m(\u001b[0m\u001b[0;34m)\u001b[0m\u001b[0;34m:\u001b[0m\u001b[0;34m\u001b[0m\u001b[0;34m\u001b[0m\u001b[0m\n\u001b[0;32m----> 3\u001b[0;31m     \u001b[0mstyles\u001b[0m \u001b[0;34m=\u001b[0m \u001b[0mopen\u001b[0m\u001b[0;34m(\u001b[0m\u001b[0;34m\"styles/custom.css\"\u001b[0m\u001b[0;34m,\u001b[0m \u001b[0;34m\"r\"\u001b[0m\u001b[0;34m)\u001b[0m\u001b[0;34m.\u001b[0m\u001b[0mread\u001b[0m\u001b[0;34m(\u001b[0m\u001b[0;34m)\u001b[0m\u001b[0;34m\u001b[0m\u001b[0;34m\u001b[0m\u001b[0m\n\u001b[0m\u001b[1;32m      4\u001b[0m     \u001b[0;32mreturn\u001b[0m \u001b[0mHTML\u001b[0m\u001b[0;34m(\u001b[0m\u001b[0mstyles\u001b[0m\u001b[0;34m)\u001b[0m\u001b[0;34m\u001b[0m\u001b[0;34m\u001b[0m\u001b[0m\n\u001b[1;32m      5\u001b[0m \u001b[0mcss_styling\u001b[0m\u001b[0;34m(\u001b[0m\u001b[0;34m)\u001b[0m\u001b[0;34m\u001b[0m\u001b[0;34m\u001b[0m\u001b[0m\n",
            "\u001b[0;31mFileNotFoundError\u001b[0m: [Errno 2] No such file or directory: 'styles/custom.css'"
          ]
        }
      ]
    }
  ]
}